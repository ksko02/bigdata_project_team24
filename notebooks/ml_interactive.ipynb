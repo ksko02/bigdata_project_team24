{
 "cells": [
  {
   "cell_type": "markdown",
   "id": "46178384-e93c-45f8-9776-7f5e4de8d1dc",
   "metadata": {},
   "source": [
    "# Interactive analysis via jupyter notebook"
   ]
  },
  {
   "cell_type": "code",
   "execution_count": 1,
   "id": "4a76c592-47bf-4c10-9dd5-179391974094",
   "metadata": {},
   "outputs": [],
   "source": [
    "from pyspark.sql import SparkSession\n",
    "from pyspark.ml import Pipeline\n",
    "from pyspark.ml.feature import OneHotEncoder, StringIndexer, VectorAssembler\n",
    "from pyspark.ml import Transformer\n",
    "from pyspark.ml.util import DefaultParamsReadable, DefaultParamsWritable\n",
    "from pyspark.sql import DataFrame\n",
    "from pyspark.sql.types import FloatType\n",
    "import math\n",
    "import pyspark.sql.functions as F\n",
    "from pyspark.ml.linalg import Vectors, VectorUDT\n",
    "import os\n",
    "from pyspark.ml.regression import GBTRegressor, RandomForestRegressor\n",
    "from pyspark.ml.evaluation import RegressionEvaluator\n",
    "from pyspark.ml.tuning import ParamGridBuilder, CrossValidator\n",
    "from pprint import pprint"
   ]
  },
  {
   "cell_type": "markdown",
   "id": "93ecdc0e-3d03-47e7-a683-d33d615fad37",
   "metadata": {},
   "source": [
    "## Read Hive tables"
   ]
  },
  {
   "cell_type": "markdown",
   "id": "440abf53-65d3-4254-93a4-5d0e786e1be6",
   "metadata": {},
   "source": [
    "### Connect to Hive"
   ]
  },
  {
   "cell_type": "code",
   "execution_count": 2,
   "id": "58e8b6a2-f244-4f4d-ac78-1342404291d1",
   "metadata": {},
   "outputs": [],
   "source": [
    "TEAM = 'team24'\n",
    "\n",
    "# location of Hive database in HDFS\n",
    "WAREHOUSE = \"project/hive/warehouse\"\n",
    "\n",
    "spark = SparkSession.builder\\\n",
    "        .appName(f\"{TEAM} - spark ML\")\\\n",
    "        .master(\"yarn\")\\\n",
    "        .config(\"hive.metastore.uris\",\n",
    "                \"thrift://hadoop-02.uni.innopolis.ru:9883\")\\\n",
    "        .config(\"spark.sql.warehouse.dir\", WAREHOUSE)\\\n",
    "        .config(\"spark.sql.avro.compression.codec\", \"snappy\")\\\n",
    "        .enableHiveSupport()\\\n",
    "        .getOrCreate()"
   ]
  },
  {
   "cell_type": "markdown",
   "id": "6e2c53d0-9826-45d1-9d4b-51b0ed3ad1ff",
   "metadata": {},
   "source": [
    "### Read Hive table"
   ]
  },
  {
   "cell_type": "code",
   "execution_count": 3,
   "id": "9c10608a-ed97-463e-adee-402830948027",
   "metadata": {},
   "outputs": [],
   "source": [
    "transactions = spark.read.format(\"avro\")\\\n",
    "                    .table('team24_projectdb.transactions_part_buck')"
   ]
  },
  {
   "cell_type": "markdown",
   "id": "1edcffc8-a03d-40e8-91b4-a44d9a84f572",
   "metadata": {},
   "source": [
    "### Explore the table"
   ]
  },
  {
   "cell_type": "code",
   "execution_count": 4,
   "id": "338c6446-94ff-4190-a438-f53be3a3e706",
   "metadata": {},
   "outputs": [
    {
     "name": "stdout",
     "output_type": "stream",
     "text": [
      "root\n",
      " |-- time: timestamp (nullable = true)\n",
      " |-- hour_of_day: integer (nullable = true)\n",
      " |-- sending_address: string (nullable = true)\n",
      " |-- receiving_address: string (nullable = true)\n",
      " |-- amount: float (nullable = true)\n",
      " |-- location_region: string (nullable = true)\n",
      " |-- ip_prefix: string (nullable = true)\n",
      " |-- login_frequency: integer (nullable = true)\n",
      " |-- session_duration: integer (nullable = true)\n",
      " |-- purchase_pattern: string (nullable = true)\n",
      " |-- age_group: string (nullable = true)\n",
      " |-- risk_score: float (nullable = true)\n",
      " |-- anomaly: string (nullable = true)\n",
      " |-- transaction_type: string (nullable = true)\n",
      "\n"
     ]
    }
   ],
   "source": [
    "transactions.printSchema()"
   ]
  },
  {
   "cell_type": "code",
   "execution_count": 5,
   "id": "24199f92-eed6-4de4-80b7-ce4f4967e446",
   "metadata": {},
   "outputs": [
    {
     "name": "stdout",
     "output_type": "stream",
     "text": [
      "+-------------------+-----------+--------------------+--------------------+---------+---------------+---------+---------------+----------------+----------------+---------+----------+---------+----------------+\n",
      "|               time|hour_of_day|     sending_address|   receiving_address|   amount|location_region|ip_prefix|login_frequency|session_duration|purchase_pattern|age_group|risk_score|  anomaly|transaction_type|\n",
      "+-------------------+-----------+--------------------+--------------------+---------+---------------+---------+---------------+----------------+----------------+---------+----------+---------+----------------+\n",
      "|2022-12-12 16:15:16|         19|0x87cd446adc9d04f...|0x1f1d8ed2ce1b2cb...|658.88055|  South America|    172.0|              2|              36|          random|      new|      94.5|high_risk|            scam|\n",
      "|2022-08-28 10:15:22|         13|0xec2d86edc26d619...|0x5449125c46f3e2a...|912.27344|         Europe|     10.0|              2|              36|          random|      new|     100.0|high_risk|            scam|\n",
      "|2022-10-25 04:28:13|          7|0x1853e897aee177f...|0x07c1b12b36b27ad...|397.02682|  North America|  192.168|              1|              37|          random|      new|      94.5|high_risk|            scam|\n",
      "|2022-04-25 04:29:45|          7|0x07f56404924fdf1...|0xc89301dff411fcf...|576.44214|           Asia|   172.16|              2|              37|          random|      new|      94.5|high_risk|            scam|\n",
      "|2022-08-06 19:15:13|         22|0x7776d8743f8ce6e...|0x7edd74b05caacd2...|110.21197|           Asia|  192.168|              2|              24|          random|      new|      90.0|high_risk|            scam|\n",
      "|2022-01-16 09:40:20|         12|0x4d3f505c7ab18bd...|0x841342e50c508ec...| 554.8356|  South America|    172.0|              1|              32|          random|      new|      94.5|high_risk|            scam|\n",
      "|2022-08-17 12:18:57|         15|0x6e7db20cc31c964...|0x5c05ee9cad8fd09...| 402.5279|           Asia|   172.16|              1|              23|          random|      new|      94.5|high_risk|            scam|\n",
      "|2022-05-19 13:11:29|         16|0x4d404bee7059e18...|0x0ad8484a353ad7e...|866.31464|  North America|    172.0|              2|              36|          random|      new|     100.0|high_risk|            scam|\n",
      "|2022-05-02 23:57:45|          2|0x2c934cd327d06ec...|0xae9fa442b1462d0...|485.88483|  North America|  192.168|              2|              39|          random|      new|     100.0|high_risk|            scam|\n",
      "|2022-06-14 17:44:01|         20|0xc650a36cc875e16...|0xf2bcc837fd71bf4...| 406.5331|           Asia|   172.16|              1|              26|          random|      new|      94.5|high_risk|            scam|\n",
      "+-------------------+-----------+--------------------+--------------------+---------+---------------+---------+---------------+----------------+----------------+---------+----------+---------+----------------+\n",
      "only showing top 10 rows\n",
      "\n"
     ]
    }
   ],
   "source": [
    "transactions.show(10)"
   ]
  },
  {
   "cell_type": "code",
   "execution_count": 6,
   "id": "aaefe083-c2d9-4f9c-ba8f-6fdd64ed6000",
   "metadata": {},
   "outputs": [
    {
     "name": "stdout",
     "output_type": "stream",
     "text": [
      "(row, colunm): (78600, 14)\n"
     ]
    }
   ],
   "source": [
    "print(\"(row, colunm):\", (transactions.count(), len(transactions.columns)))"
   ]
  },
  {
   "cell_type": "markdown",
   "id": "590566b6-5c71-4c93-ba7a-effe2c3b7b37",
   "metadata": {},
   "source": [
    "## Preprocessing the data"
   ]
  },
  {
   "cell_type": "markdown",
   "id": "7791720c-d038-4f0f-88aa-c362812debbe",
   "metadata": {},
   "source": [
    "### Drop data with missing values"
   ]
  },
  {
   "cell_type": "code",
   "execution_count": 7,
   "id": "ca83444b-f1b0-4b38-919e-4f1b865fdc26",
   "metadata": {},
   "outputs": [
    {
     "name": "stdout",
     "output_type": "stream",
     "text": [
      "row: 78600\n"
     ]
    }
   ],
   "source": [
    "transactions = transactions.dropna()\n",
    "\n",
    "print(\"row:\", transactions.count())"
   ]
  },
  {
   "cell_type": "markdown",
   "id": "3f3e3c5a-f3cb-427f-af4e-547cd054b857",
   "metadata": {},
   "source": [
    "### Class CustomTransformer for preprocessing timestamp data type"
   ]
  },
  {
   "cell_type": "code",
   "execution_count": 8,
   "id": "670ab63e-8ecb-4938-bdad-b7065033832e",
   "metadata": {},
   "outputs": [],
   "source": [
    "def cos_sin_time(list_time):\n",
    "    output = []\n",
    "    parm = [0, 12, 31, 24, 60, 60]\n",
    "\n",
    "    for i in range(len(list_time)):\n",
    "        if i == 0:\n",
    "            output.append(float(list_time[i]))\n",
    "        else:\n",
    "            cos = math.cos((2*list_time[i]*math.pi)/parm[i])\n",
    "            sin = math.sin((2*list_time[i]*math.pi)/parm[i])\n",
    "            output.append(cos)\n",
    "            output.append(sin)\n",
    "    return Vectors.dense(output)"
   ]
  },
  {
   "cell_type": "code",
   "execution_count": 9,
   "id": "241e606b-cd83-4cb9-a309-d1f50670c207",
   "metadata": {},
   "outputs": [],
   "source": [
    "class CustomTransformer(Transformer, DefaultParamsReadable,\n",
    "                        DefaultParamsWritable):\n",
    "\n",
    "    def _transform(self, dataset: DataFrame):\n",
    "        input_col = dataset['time']\n",
    "        transform_udf = F.udf(lambda x: cos_sin_time(\n",
    "                            list(map(int, ':'.join('-'.join(str(x).split())\n",
    "                                                   .split('-'))\n",
    "                                     .split(':')))\n",
    "                        ), VectorUDT())\n",
    "        return dataset.withColumn(\"sin_cos_time\", transform_udf(input_col))"
   ]
  },
  {
   "cell_type": "markdown",
   "id": "5d735530-542e-4c67-9049-c297a8e0f4a8",
   "metadata": {},
   "source": [
    "### Select the features and preprocessing"
   ]
  },
  {
   "cell_type": "code",
   "execution_count": 10,
   "id": "ed473c7f-12b9-40e4-b74e-b313deb70e82",
   "metadata": {},
   "outputs": [],
   "source": [
    "categorical_features = ['transaction_type', 'location_region',\n",
    "                        'purchase_pattern']\n",
    "numerical_features = ['amount', 'login_frequency', 'session_duration',\n",
    "                      'ip_prefix']\n",
    "time = 'time'\n",
    "label = 'risk_score'"
   ]
  },
  {
   "cell_type": "code",
   "execution_count": 11,
   "id": "740c0c0e-28ad-4401-95f3-7ad7a9dc02ba",
   "metadata": {},
   "outputs": [],
   "source": [
    "# Convert from string to float type column 'ip_prefix'\n",
    "ip_prefix_udf = F.udf(lambda x: float(x), FloatType())\n",
    "transactions = transactions.withColumn('ip_prefix', ip_prefix_udf('ip_prefix'))"
   ]
  },
  {
   "cell_type": "code",
   "execution_count": 12,
   "id": "0a454288-dd1f-4ac3-b234-f07b3dc99fb0",
   "metadata": {},
   "outputs": [],
   "source": [
    "# Create string indexer for categorical features\n",
    "indexers = [StringIndexer(inputCol=col, outputCol=col+\"_index\",\n",
    "                          handleInvalid=\"skip\") for col in categorical_features]\n",
    "\n",
    "# One-hot encode categorical features\n",
    "onehot_encoders = [OneHotEncoder(inputCol=col+\"_index\",\n",
    "                                 outputCol=col+\"_onehot\")\n",
    "                   for col in categorical_features]"
   ]
  },
  {
   "cell_type": "code",
   "execution_count": 13,
   "id": "b9bfc222-c801-48c4-b051-5d2f9a7a5890",
   "metadata": {},
   "outputs": [],
   "source": [
    "custom_transformer = CustomTransformer()"
   ]
  },
  {
   "cell_type": "code",
   "execution_count": 14,
   "id": "18e94157-ec19-4896-a57b-05fb40facef5",
   "metadata": {},
   "outputs": [],
   "source": [
    "# Assemble all features into a single vector\n",
    "assembler = VectorAssembler(\n",
    "    inputCols=[col+\"_onehot\" for col in categorical_features]\n",
    "    + numerical_features + [\"sin_cos_time\"] + [label],\n",
    "    outputCol=\"features\")"
   ]
  },
  {
   "cell_type": "markdown",
   "id": "7bcbdc55-9491-4d9e-bb06-2d7f0ce7fe47",
   "metadata": {},
   "source": [
    "### Build the Pipeline"
   ]
  },
  {
   "cell_type": "code",
   "execution_count": 15,
   "id": "f72b1a5d-08a8-4cc2-a150-703c4fdf35e8",
   "metadata": {},
   "outputs": [],
   "source": [
    "# Create pipeline\n",
    "pipeline = Pipeline(stages=indexers + onehot_encoders + [custom_transformer]\n",
    "                    + [assembler])"
   ]
  },
  {
   "cell_type": "code",
   "execution_count": 16,
   "id": "c471d8b7-40ae-441d-b3ea-c7453a10ae9d",
   "metadata": {},
   "outputs": [],
   "source": [
    "# Fit pipeline to data\n",
    "pipeline_model = pipeline.fit(transactions)"
   ]
  },
  {
   "cell_type": "code",
   "execution_count": 17,
   "id": "c95e5aa0-f9f5-4ac5-bbbc-0815c7bd7e1c",
   "metadata": {},
   "outputs": [],
   "source": [
    "# Transform data using the fitted pipeline\n",
    "transformed_data = pipeline_model.transform(transactions)"
   ]
  },
  {
   "cell_type": "code",
   "execution_count": 18,
   "id": "ab65300d-d030-492b-98c6-5eedbf06a7e4",
   "metadata": {},
   "outputs": [
    {
     "data": {
      "text/plain": [
       "[Row(time=datetime.datetime(2022, 6, 25, 11, 27, 37), hour_of_day=14, sending_address='0x6ea0e02fb6ee893dc3b70b98df1a48165d28eb09', receiving_address='0xc28cbdb253f12174f7aa80ff6c6660f2e09397d7', amount=523.9479370117188, location_region='North America', ip_prefix=172.0, login_frequency=4, session_duration=56, purchase_pattern='focused', age_group='established', risk_score=15.75, anomaly='low_risk', transaction_type='transfer', transaction_type_index=2.0, location_region_index=0.0, purchase_pattern_index=2.0, transaction_type_onehot=SparseVector(4, {2: 1.0}), location_region_onehot=SparseVector(4, {0: 1.0}), purchase_pattern_onehot=SparseVector(2, {}), sin_cos_time=DenseVector([2022.0, -1.0, 0.0, 0.3473, -0.9378, -0.9659, 0.2588, -0.9511, 0.309, -0.7431, -0.6691]), features=DenseVector([0.0, 0.0, 1.0, 0.0, 1.0, 0.0, 0.0, 0.0, 0.0, 0.0, 523.9479, 4.0, 56.0, 172.0, 2022.0, -1.0, 0.0, 0.3473, -0.9378, -0.9659, 0.2588, -0.9511, 0.309, -0.7431, -0.6691, 15.75])),\n",
       " Row(time=datetime.datetime(2022, 11, 12, 17, 47, 34), hour_of_day=20, sending_address='0xd6e251c23cbf52dbd472f079147873e655d8096f', receiving_address='0x51e8fbe24f124e0e30a614e14401b9bbfed5384c', amount=440.9788513183594, location_region='Africa', ip_prefix=172.0, login_frequency=4, session_duration=62, purchase_pattern='focused', age_group='established', risk_score=15.75, anomaly='low_risk', transaction_type='transfer', transaction_type_index=2.0, location_region_index=4.0, purchase_pattern_index=2.0, transaction_type_onehot=SparseVector(4, {2: 1.0}), location_region_onehot=SparseVector(4, {}), purchase_pattern_onehot=SparseVector(2, {}), sin_cos_time=DenseVector([2022.0, 0.866, -0.5, -0.7588, 0.6514, -0.2588, -0.9659, 0.2079, -0.9781, -0.9135, -0.4067]), features=DenseVector([0.0, 0.0, 1.0, 0.0, 0.0, 0.0, 0.0, 0.0, 0.0, 0.0, 440.9789, 4.0, 62.0, 172.0, 2022.0, 0.866, -0.5, -0.7588, 0.6514, -0.2588, -0.9659, 0.2079, -0.9781, -0.9135, -0.4067, 15.75])),\n",
       " Row(time=datetime.datetime(2022, 3, 31, 20, 17, 43), hour_of_day=23, sending_address='0xb605084fdba5953534cc693d24f44dab10c64412', receiving_address='0x57537fbd3a4dd084f6bdf76baf88ec87955ddecc', amount=246.33551025390625, location_region='Europe', ip_prefix=172.16000366210938, login_frequency=3, session_duration=43, purchase_pattern='focused', age_group='established', risk_score=15.0, anomaly='low_risk', transaction_type='transfer', transaction_type_index=2.0, location_region_index=1.0, purchase_pattern_index=2.0, transaction_type_onehot=SparseVector(4, {2: 1.0}), location_region_onehot=SparseVector(4, {1: 1.0}), purchase_pattern_onehot=SparseVector(2, {}), sin_cos_time=DenseVector([2022.0, 0.0, 1.0, 1.0, -0.0, 0.5, -0.866, -0.2079, 0.9781, -0.2079, -0.9781]), features=DenseVector([0.0, 0.0, 1.0, 0.0, 0.0, 1.0, 0.0, 0.0, 0.0, 0.0, 246.3355, 3.0, 43.0, 172.16, 2022.0, 0.0, 1.0, 1.0, -0.0, 0.5, -0.866, -0.2079, 0.9781, -0.2079, -0.9781, 15.0]))]"
      ]
     },
     "execution_count": 18,
     "metadata": {},
     "output_type": "execute_result"
    }
   ],
   "source": [
    "transformed_data.head(3)"
   ]
  },
  {
   "cell_type": "code",
   "execution_count": 19,
   "id": "6fea02f0-5b61-4a1e-9cf9-36a252f9f851",
   "metadata": {},
   "outputs": [
    {
     "data": {
      "text/plain": [
       "[Row(features=DenseVector([1.0, 0.0, 0.0, 0.0, 0.0, 1.0, 0.0, 0.0, 1.0, 0.0, 665.4055, 8.0, 114.0, 172.16, 2022.0, 1.0, -0.0, 0.9795, 0.2013, 0.2588, -0.9659, -0.4067, 0.9135, 0.809, -0.5878, 52.5]), risk_score=52.5),\n",
       " Row(features=DenseVector([1.0, 0.0, 0.0, 0.0, 0.0, 0.0, 0.0, 0.0, 1.0, 0.0, 762.8003, 6.0, 153.0, 172.0, 2022.0, 0.5, 0.866, -0.4404, 0.8978, -0.2588, 0.9659, -0.5878, -0.809, -0.9511, 0.309, 62.5]), risk_score=62.5),\n",
       " Row(features=DenseVector([1.0, 0.0, 0.0, 0.0, 0.0, 0.0, 0.0, 1.0, 1.0, 0.0, 453.8714, 6.0, 89.0, 172.0, 2022.0, 0.5, -0.866, -0.8743, -0.4853, 0.2588, -0.9659, -0.866, -0.5, -0.9135, 0.4067, 52.5]), risk_score=52.5)]"
      ]
     },
     "execution_count": 19,
     "metadata": {},
     "output_type": "execute_result"
    }
   ],
   "source": [
    "df = transformed_data['features', 'risk_score']\n",
    "\n",
    "df.head(3)"
   ]
  },
  {
   "cell_type": "markdown",
   "id": "69a13349-bfeb-4ee9-9e49-11b770c7d410",
   "metadata": {},
   "source": [
    "### Split data"
   ]
  },
  {
   "cell_type": "code",
   "execution_count": 19,
   "id": "869ff219-ccb0-4a8f-a8ca-f02dbee7dffb",
   "metadata": {},
   "outputs": [],
   "source": [
    "# Split the data into training and testing sets\n",
    "train_data, test_data = df.randomSplit([0.8, 0.2], seed=42)"
   ]
  },
  {
   "cell_type": "code",
   "execution_count": 20,
   "id": "6c70311e-3acf-42b2-8c78-12990d8d1295",
   "metadata": {},
   "outputs": [
    {
     "data": {
      "text/plain": [
       "[Row(features=SparseVector(26, {9: 1.0, 10: 0.01, 11: 1.0, 12: 36.0, 13: 10.0, 14: 2022.0, 15: -0.0, 16: -1.0, 17: 0.9795, 18: 0.2013, 19: -0.9659, 20: 0.2588, 21: -0.2079, 22: -0.9781, 23: 1.0, 25: 100.0}), risk_score=100.0),\n",
       " Row(features=SparseVector(26, {9: 1.0, 10: 327.2854, 11: 1.0, 12: 30.0, 13: 10.0, 14: 2022.0, 15: 0.866, 16: 0.5, 17: 0.919, 18: 0.3944, 19: -0.7071, 20: 0.7071, 21: 0.9781, 22: 0.2079, 23: 1.0, 25: 100.0}), risk_score=100.0),\n",
       " Row(features=SparseVector(26, {9: 1.0, 10: 649.1923, 11: 2.0, 12: 21.0, 13: 192.168, 14: 2022.0, 15: 0.866, 16: -0.5, 17: 0.1514, 18: 0.9885, 19: -0.866, 20: 0.5, 21: 0.4067, 22: 0.9135, 23: 1.0, 25: 100.0}), risk_score=100.0)]"
      ]
     },
     "execution_count": 20,
     "metadata": {},
     "output_type": "execute_result"
    }
   ],
   "source": [
    "train_data.head(3)"
   ]
  },
  {
   "cell_type": "code",
   "execution_count": 21,
   "id": "518fbb97-6d0f-46ca-a9a3-4193edf0ff61",
   "metadata": {},
   "outputs": [
    {
     "name": "stdout",
     "output_type": "stream",
     "text": [
      "train_data, test_data: (63112, 15466)\n"
     ]
    }
   ],
   "source": [
    "print('train_data, test_data:', (train_data.count(), test_data.count()))"
   ]
  },
  {
   "cell_type": "markdown",
   "id": "2fdacfaa-681b-4e6c-963d-07cb4dc573af",
   "metadata": {},
   "source": [
    "### Save train and test data to HDFS"
   ]
  },
  {
   "cell_type": "code",
   "execution_count": 22,
   "id": "91e2f330-09cb-42d5-b646-7f42ed7756d2",
   "metadata": {},
   "outputs": [],
   "source": [
    "def run(command):\n",
    "    return os.popen(command).read()"
   ]
  },
  {
   "cell_type": "code",
   "execution_count": 23,
   "id": "4af902e4-dfa3-4b0d-8918-4b6e68367b40",
   "metadata": {},
   "outputs": [],
   "source": [
    "# train_data.select(\"features\", \"risk_score\")\\\n",
    "#     .coalesce(1)\\\n",
    "#     .write\\\n",
    "#     .mode(\"overwrite\")\\\n",
    "#     .format(\"json\")\\\n",
    "#     .save(\"project/data/train\")"
   ]
  },
  {
   "cell_type": "code",
   "execution_count": 24,
   "id": "abf2854a-cf5e-47fe-a68e-b6329b19e068",
   "metadata": {},
   "outputs": [],
   "source": [
    "# test_data.select(\"features\", \"risk_score\")\\\n",
    "#     .coalesce(1)\\\n",
    "#     .write\\\n",
    "#     .mode(\"overwrite\")\\\n",
    "#     .format(\"json\")\\\n",
    "#     .save(\"project/data/test\")"
   ]
  },
  {
   "cell_type": "code",
   "execution_count": 25,
   "id": "4e8e356b-c431-4f56-b5db-ac623e58edef",
   "metadata": {},
   "outputs": [],
   "source": [
    "# run(\"hdfs dfs -cat project/data/train/*.json >\\\n",
    "#     ~/project/bigdata_project_team24/data/train.json\")\n",
    "# run(\"hdfs dfs -cat project/data/test/*.json >\\\n",
    "#     ~/project/bigdata_project_team24/data/test.json\")"
   ]
  },
  {
   "cell_type": "markdown",
   "id": "b54d1a48-ba0c-452c-9d1c-474875d88ea9",
   "metadata": {},
   "source": [
    "## Model 1 (GBTRegressor)"
   ]
  },
  {
   "cell_type": "markdown",
   "id": "027edefe-ef30-44ed-86b7-d9b2cde15f65",
   "metadata": {},
   "source": [
    "### Model training"
   ]
  },
  {
   "cell_type": "code",
   "execution_count": 26,
   "id": "4e46f453-2ee0-4e68-a526-7bc191a1904b",
   "metadata": {},
   "outputs": [],
   "source": [
    "gbt = GBTRegressor(featuresCol=\"features\", labelCol=\"risk_score\")"
   ]
  },
  {
   "cell_type": "code",
   "execution_count": 27,
   "id": "d35bc266-cb96-455a-b2eb-921df481f7c5",
   "metadata": {},
   "outputs": [],
   "source": [
    "model_gbt = gbt.fit(train_data)"
   ]
  },
  {
   "cell_type": "markdown",
   "id": "4138c92b-e7c1-4450-9642-ffb3a019a54d",
   "metadata": {},
   "source": [
    "### Prediction"
   ]
  },
  {
   "cell_type": "code",
   "execution_count": 28,
   "id": "f04d5c16-b0ee-469f-8fa9-ead6681f6360",
   "metadata": {},
   "outputs": [],
   "source": [
    "predictions_gbt = model_gbt.transform(test_data)"
   ]
  },
  {
   "cell_type": "code",
   "execution_count": 29,
   "id": "cc63d674-5411-4022-9583-f98febe3a9a6",
   "metadata": {},
   "outputs": [
    {
     "name": "stdout",
     "output_type": "stream",
     "text": [
      "+--------------------+----------+------------------+\n",
      "|            features|risk_score|        prediction|\n",
      "+--------------------+----------+------------------+\n",
      "|[0.0,0.0,0.0,1.0,...|     100.0|100.01853424776044|\n",
      "|[0.0,0.0,0.0,1.0,...|      90.0| 89.99690730183153|\n",
      "|[0.0,0.0,0.0,1.0,...|      90.0| 89.99690730183153|\n",
      "|[0.0,0.0,0.0,1.0,...|      90.0| 89.99690730183153|\n",
      "|[0.0,0.0,0.0,1.0,...|     100.0|100.01853424776044|\n",
      "|[0.0,0.0,0.0,1.0,...|     100.0|100.01853424776044|\n",
      "|[0.0,0.0,0.0,1.0,...|      90.0| 89.99690730183153|\n",
      "|[0.0,0.0,0.0,1.0,...|      90.0| 89.99690730183153|\n",
      "|[0.0,0.0,0.0,1.0,...|     100.0|100.01853424776044|\n",
      "|[0.0,0.0,0.0,1.0,...|      90.0| 89.99690730183153|\n",
      "+--------------------+----------+------------------+\n",
      "only showing top 10 rows\n",
      "\n"
     ]
    }
   ],
   "source": [
    "predictions_gbt.show(10)"
   ]
  },
  {
   "cell_type": "markdown",
   "id": "e8b0f06c-5e00-4578-9566-a70270653afe",
   "metadata": {},
   "source": [
    "### Evaluation"
   ]
  },
  {
   "cell_type": "code",
   "execution_count": 30,
   "id": "20b3bebd-47d1-4516-b169-7aefe5ff8032",
   "metadata": {},
   "outputs": [],
   "source": [
    "evaluator_rmse = RegressionEvaluator(labelCol=\"risk_score\",\n",
    "                                     predictionCol=\"prediction\",\n",
    "                                     metricName=\"rmse\")\n",
    "\n",
    "evaluator_r2 = RegressionEvaluator(labelCol=\"risk_score\",\n",
    "                                   predictionCol=\"prediction\", metricName=\"r2\")"
   ]
  },
  {
   "cell_type": "code",
   "execution_count": 31,
   "id": "c9b2688a-6256-46fa-9449-83abc1f52313",
   "metadata": {},
   "outputs": [],
   "source": [
    "rmse_gbt = evaluator_rmse.evaluate(predictions_gbt)\n",
    "r2_gbt = evaluator_r2.evaluate(predictions_gbt)"
   ]
  },
  {
   "cell_type": "code",
   "execution_count": 32,
   "id": "63ac2c23-be98-4dac-b020-5207ac07eae5",
   "metadata": {},
   "outputs": [
    {
     "name": "stdout",
     "output_type": "stream",
     "text": [
      "RMSE for GBTRegressor: 0.015894595778895824\n",
      "R2 for GBTRegressor: 0.999999455585549\n"
     ]
    }
   ],
   "source": [
    "print(\"RMSE for GBTRegressor:\", rmse_gbt)\n",
    "print(\"R2 for GBTRegressor:\", r2_gbt)"
   ]
  },
  {
   "cell_type": "markdown",
   "id": "6e67a5f8-7c3a-41d0-9887-8c65d2ce0657",
   "metadata": {},
   "source": [
    "### Hyperparameter optimization"
   ]
  },
  {
   "cell_type": "code",
   "execution_count": 33,
   "id": "9dc31356-90d3-42e4-adc0-740f56453075",
   "metadata": {},
   "outputs": [],
   "source": [
    "grid = ParamGridBuilder()"
   ]
  },
  {
   "cell_type": "code",
   "execution_count": 34,
   "id": "dba7f0a2-420a-4caa-b94f-067a9f0bbc2c",
   "metadata": {},
   "outputs": [],
   "source": [
    "param_grid_gbt = grid.addGrid(model_gbt.maxDepth, [2, 4, 6]) \\\n",
    "    .addGrid(model_gbt.maxBins, [16, 32, 64]) \\\n",
    "    .build()"
   ]
  },
  {
   "cell_type": "code",
   "execution_count": 35,
   "id": "02de3332-4b39-488f-bcf1-b79fdb2f4943",
   "metadata": {},
   "outputs": [],
   "source": [
    "cv_gbt = CrossValidator(estimator=gbt,\n",
    "                        estimatorParamMaps=param_grid_gbt,\n",
    "                        evaluator=evaluator_rmse,\n",
    "                        parallelism=5,\n",
    "                        numFolds=3)"
   ]
  },
  {
   "cell_type": "code",
   "execution_count": 36,
   "id": "6a8a2983-bc67-4c77-ae02-08afe71fc4fe",
   "metadata": {},
   "outputs": [],
   "source": [
    "cvModel_gbt = cv_gbt.fit(train_data)"
   ]
  },
  {
   "cell_type": "markdown",
   "id": "fd190a9e-da6f-4a1c-816b-daf4fdcd1a03",
   "metadata": {},
   "source": [
    "### Select the best model"
   ]
  },
  {
   "cell_type": "code",
   "execution_count": 37,
   "id": "33693e74-4fea-49e4-a77c-f5c8055dca24",
   "metadata": {},
   "outputs": [
    {
     "data": {
      "text/plain": [
       "GBTRegressionModel: uid=GBTRegressor_c8346a47d3b9, numTrees=20, numFeatures=26"
      ]
     },
     "execution_count": 37,
     "metadata": {},
     "output_type": "execute_result"
    }
   ],
   "source": [
    "model_best_gbt = cvModel_gbt.bestModel\n",
    "model_best_gbt"
   ]
  },
  {
   "cell_type": "code",
   "execution_count": 38,
   "id": "69bdcd36-b761-4301-88e6-1697fe40f52f",
   "metadata": {},
   "outputs": [
    {
     "name": "stdout",
     "output_type": "stream",
     "text": [
      "{Param(parent='GBTRegressor_c8346a47d3b9', name='featuresCol', doc='features column name.'): 'features',\n",
      " Param(parent='GBTRegressor_c8346a47d3b9', name='cacheNodeIds', doc='If false, the algorithm will pass trees to executors to match instances with nodes. If true, the algorithm will cache node IDs for each instance. Caching can speed up training of deeper trees. Users can set how often should the cache be checkpointed or disable it by setting checkpointInterval.'): False,\n",
      " Param(parent='GBTRegressor_c8346a47d3b9', name='featureSubsetStrategy', doc=\"The number of features to consider for splits at each tree node. Supported options: 'auto' (choose automatically for task: If numTrees == 1, set to 'all'. If numTrees > 1 (forest), set to 'sqrt' for classification and to 'onethird' for regression), 'all' (use all features), 'onethird' (use 1/3 of the features), 'sqrt' (use sqrt(number of features)), 'log2' (use log2(number of features)), 'n' (when n is in the range (0, 1.0], use n * number of features. When n is in the range (1, number of features), use n features). default = 'auto'\"): 'all',\n",
      " Param(parent='GBTRegressor_c8346a47d3b9', name='checkpointInterval', doc='set checkpoint interval (>= 1) or disable checkpoint (-1). E.g. 10 means that the cache will get checkpointed every 10 iterations. Note: this setting will be ignored if the checkpoint directory is not set in the SparkContext.'): 10,\n",
      " Param(parent='GBTRegressor_c8346a47d3b9', name='impurity', doc='Criterion used for information gain calculation (case-insensitive). Supported options: variance'): 'variance',\n",
      " Param(parent='GBTRegressor_c8346a47d3b9', name='maxIter', doc='max number of iterations (>= 0).'): 20,\n",
      " Param(parent='GBTRegressor_c8346a47d3b9', name='labelCol', doc='label column name.'): 'risk_score',\n",
      " Param(parent='GBTRegressor_c8346a47d3b9', name='maxDepth', doc='Maximum depth of the tree. (>= 0) E.g., depth 0 means 1 leaf node; depth 1 means 1 internal node + 2 leaf nodes. Must be in range [0, 30].'): 6,\n",
      " Param(parent='GBTRegressor_c8346a47d3b9', name='maxMemoryInMB', doc='Maximum memory in MB allocated to histogram aggregation. If too small, then 1 node will be split per iteration, and its aggregates may exceed this size.'): 256,\n",
      " Param(parent='GBTRegressor_c8346a47d3b9', name='leafCol', doc='Leaf indices column name. Predicted leaf index of each instance in each tree by preorder.'): '',\n",
      " Param(parent='GBTRegressor_c8346a47d3b9', name='maxBins', doc='Max number of bins for discretizing continuous features.  Must be >=2 and >= number of categories for any categorical feature.'): 64,\n",
      " Param(parent='GBTRegressor_c8346a47d3b9', name='lossType', doc='Loss function which GBT tries to minimize (case-insensitive). Supported options: squared, absolute'): 'squared',\n",
      " Param(parent='GBTRegressor_c8346a47d3b9', name='minInfoGain', doc='Minimum information gain for a split to be considered at a tree node.'): 0.0,\n",
      " Param(parent='GBTRegressor_c8346a47d3b9', name='stepSize', doc='Step size (a.k.a. learning rate) in interval (0, 1] for shrinking the contribution of each estimator.'): 0.1,\n",
      " Param(parent='GBTRegressor_c8346a47d3b9', name='seed', doc='random seed.'): 1998203400505721613,\n",
      " Param(parent='GBTRegressor_c8346a47d3b9', name='subsamplingRate', doc='Fraction of the training data used for learning each decision tree, in range (0, 1].'): 1.0,\n",
      " Param(parent='GBTRegressor_c8346a47d3b9', name='minWeightFractionPerNode', doc='Minimum fraction of the weighted sample count that each child must have after split. If a split causes the fraction of the total weight in the left or right child to be less than minWeightFractionPerNode, the split will be discarded as invalid. Should be in interval [0.0, 0.5).'): 0.0,\n",
      " Param(parent='GBTRegressor_c8346a47d3b9', name='predictionCol', doc='prediction column name.'): 'prediction',\n",
      " Param(parent='GBTRegressor_c8346a47d3b9', name='minInstancesPerNode', doc='Minimum number of instances each child must have after split. If a split causes the left or right child to have fewer than minInstancesPerNode, the split will be discarded as invalid. Should be >= 1.'): 1,\n",
      " Param(parent='GBTRegressor_c8346a47d3b9', name='validationTol', doc='Threshold for stopping early when fit with validation is used. If the error rate on the validation input changes by less than the validationTol, then learning will stop early (before `maxIter`). This parameter is ignored when fit without validation is used.'): 0.01}\n"
     ]
    }
   ],
   "source": [
    "pprint(model_best_gbt.extractParamMap())"
   ]
  },
  {
   "cell_type": "markdown",
   "id": "e10b3d05-d060-4056-a929-a36bb04f2a64",
   "metadata": {},
   "source": [
    "### Save the model to HDFS"
   ]
  },
  {
   "cell_type": "code",
   "execution_count": 39,
   "id": "1cc331c3-29b9-4b6a-8704-d4cb093df213",
   "metadata": {},
   "outputs": [],
   "source": [
    "# model_best_gbt.write().overwrite().save(\"project/models/model1\")\n",
    "\n",
    "# # Run it from root directory of the repository\n",
    "# run(\"hdfs dfs -get project/models/model1\\\n",
    "#     ~/project/bigdata_project_team24/models/model1\")"
   ]
  },
  {
   "cell_type": "markdown",
   "id": "a64facc4-a66a-49e6-8898-30f342ec2f89",
   "metadata": {},
   "source": [
    "### Prediction for the best model"
   ]
  },
  {
   "cell_type": "code",
   "execution_count": 40,
   "id": "9f638640-eb5c-4679-acf8-1f54b783d614",
   "metadata": {},
   "outputs": [
    {
     "name": "stdout",
     "output_type": "stream",
     "text": [
      "+--------------------+----------+----------+\n",
      "|            features|risk_score|prediction|\n",
      "+--------------------+----------+----------+\n",
      "|(26,[1,4,10,11,12...|   42.1875|   42.1875|\n",
      "|(26,[1,6,10,11,12...|   35.4375|   35.4375|\n",
      "|(26,[1,7,10,11,12...|     26.25|     26.25|\n",
      "|(26,[1,7,10,11,12...|   42.1875|   42.1875|\n",
      "|(26,[1,10,11,12,1...|      25.0|      25.0|\n",
      "|(26,[1,10,11,12,1...|     26.25|     26.25|\n",
      "|(26,[1,10,11,12,1...|   35.4375|   35.4375|\n",
      "|(26,[1,10,11,12,1...|     26.25|     26.25|\n",
      "|(26,[1,10,11,12,1...|     31.25|     31.25|\n",
      "|(26,[1,10,11,12,1...|     31.25|     31.25|\n",
      "|(26,[1,10,11,12,1...|     31.25|     31.25|\n",
      "|(26,[1,10,11,12,1...|     33.75|     33.75|\n",
      "|(26,[1,10,11,12,1...|     33.75|     33.75|\n",
      "|(26,[1,10,11,12,1...|     33.75|     33.75|\n",
      "|(26,[1,10,11,12,1...|     26.25|     26.25|\n",
      "|(26,[1,10,11,12,1...|     26.25|     26.25|\n",
      "|(26,[1,10,11,12,1...|     26.25|     26.25|\n",
      "|(26,[1,10,11,12,1...|     33.75|     33.75|\n",
      "|(26,[1,10,11,12,1...|   35.4375|   35.4375|\n",
      "|(26,[1,10,11,12,1...|   35.4375|   35.4375|\n",
      "+--------------------+----------+----------+\n",
      "only showing top 20 rows\n",
      "\n"
     ]
    }
   ],
   "source": [
    "predictions_best_gbt = model_best_gbt.transform(test_data)\n",
    "predictions_best_gbt.show()"
   ]
  },
  {
   "cell_type": "markdown",
   "id": "ecba22b2-a311-4bc5-b345-9f588c1f74e6",
   "metadata": {},
   "source": [
    "### Save prediction of the best model to HDFS"
   ]
  },
  {
   "cell_type": "code",
   "execution_count": 41,
   "id": "ac054f15-26a0-4522-8b80-19982b4c81c7",
   "metadata": {},
   "outputs": [],
   "source": [
    "# predictions_best_gbt.select(\"risk_score\", \"prediction\")\\\n",
    "#     .coalesce(1)\\\n",
    "#     .write\\\n",
    "#     .mode(\"overwrite\")\\\n",
    "#     .format(\"csv\")\\\n",
    "#     .option(\"sep\", \",\")\\\n",
    "#     .option(\"header\", \"true\")\\\n",
    "#     .save(\"project/output/model1_predictions.csv\")\n",
    "\n",
    "# # Run it from root directory of the repository\n",
    "# run(\"hdfs dfs -cat project/output/model1_predictions.csv/*.csv >\\\n",
    "#     ~/project/bigdata_project_team24/output/model1_predictions.csv\")"
   ]
  },
  {
   "cell_type": "markdown",
   "id": "0c659cee-359a-4b0b-b1af-0d53ed5ca977",
   "metadata": {},
   "source": [
    "### Evaluation for the best model "
   ]
  },
  {
   "cell_type": "code",
   "execution_count": 42,
   "id": "7fcb6f82-ab7c-48b4-b62b-35ae52127ede",
   "metadata": {},
   "outputs": [
    {
     "name": "stdout",
     "output_type": "stream",
     "text": [
      "RMSE for the best GBTRegressor: 0.0009512903246989098\n",
      "R2 for the best GBTRegressor: 0.9999999980550562\n"
     ]
    }
   ],
   "source": [
    "rmse_best_gbt = evaluator_rmse.evaluate(predictions_best_gbt)\n",
    "r2_best_gbt = evaluator_r2.evaluate(predictions_best_gbt)\n",
    "\n",
    "print(\"RMSE for the best GBTRegressor:\", rmse_best_gbt)\n",
    "print(\"R2 for the best GBTRegressor:\", r2_best_gbt)"
   ]
  },
  {
   "cell_type": "markdown",
   "id": "df8aed63-8f27-4638-8f86-ca1af5944037",
   "metadata": {},
   "source": [
    "## Model 2 (RandomForestRegressor)"
   ]
  },
  {
   "cell_type": "markdown",
   "id": "d58e32b2-d754-436e-a954-0d68df6837a5",
   "metadata": {},
   "source": [
    "### Model training"
   ]
  },
  {
   "cell_type": "code",
   "execution_count": 43,
   "id": "6a15c0e3-5929-4ff2-bc4a-4b0161e1670b",
   "metadata": {},
   "outputs": [],
   "source": [
    "rf = RandomForestRegressor(featuresCol=\"features\", labelCol=\"risk_score\")"
   ]
  },
  {
   "cell_type": "code",
   "execution_count": 44,
   "id": "94c8b707-a9c2-486b-a6ef-dad04ddc1acc",
   "metadata": {},
   "outputs": [],
   "source": [
    "model_rf = rf.fit(train_data)"
   ]
  },
  {
   "cell_type": "markdown",
   "id": "dd6e10d0-6ba8-4e2b-bb43-d68f309d8c8f",
   "metadata": {},
   "source": [
    "### Prediction"
   ]
  },
  {
   "cell_type": "code",
   "execution_count": 45,
   "id": "f26040c5-6b61-4962-97c2-bf0ea37585cc",
   "metadata": {},
   "outputs": [],
   "source": [
    "predictions_rf = model_rf.transform(test_data)"
   ]
  },
  {
   "cell_type": "code",
   "execution_count": 46,
   "id": "43b43ef3-b240-4371-8e7d-482b75c2cba3",
   "metadata": {},
   "outputs": [
    {
     "name": "stdout",
     "output_type": "stream",
     "text": [
      "+--------------------+----------+------------------+\n",
      "|            features|risk_score|        prediction|\n",
      "+--------------------+----------+------------------+\n",
      "|(26,[0,8,10,11,12...|    70.875| 69.09707330228932|\n",
      "|[1.0,0.0,0.0,0.0,...|      50.0|51.914561288012614|\n",
      "|[1.0,0.0,0.0,0.0,...|      50.0| 52.06205364399314|\n",
      "|[1.0,0.0,0.0,0.0,...|      50.0| 52.06205364399314|\n",
      "|[1.0,0.0,0.0,0.0,...|      67.5| 68.92832330228931|\n",
      "|[1.0,0.0,0.0,0.0,...|      50.0| 51.84768984981709|\n",
      "|[1.0,0.0,0.0,0.0,...|      67.5| 69.09524827968585|\n",
      "|[1.0,0.0,0.0,0.0,...|      50.0|52.025637196635195|\n",
      "|[1.0,0.0,0.0,0.0,...|      50.0| 51.90752897503462|\n",
      "|[1.0,0.0,0.0,0.0,...|      50.0| 52.06205364399314|\n",
      "+--------------------+----------+------------------+\n",
      "only showing top 10 rows\n",
      "\n"
     ]
    }
   ],
   "source": [
    "predictions_rf.show(10)"
   ]
  },
  {
   "cell_type": "markdown",
   "id": "6e8a6750-4736-43fe-ba1e-f0c1445f75af",
   "metadata": {},
   "source": [
    "### Evaluation"
   ]
  },
  {
   "cell_type": "code",
   "execution_count": 47,
   "id": "c46bb985-4fdc-40e3-8b1f-467bca6c5d7c",
   "metadata": {},
   "outputs": [],
   "source": [
    "rmse_rf = evaluator_rmse.evaluate(predictions_rf)\n",
    "r2_rf = evaluator_r2.evaluate(predictions_rf)"
   ]
  },
  {
   "cell_type": "code",
   "execution_count": 48,
   "id": "9311cf7c-c2de-4b2c-9e3d-f1b9cf79eb79",
   "metadata": {},
   "outputs": [
    {
     "name": "stdout",
     "output_type": "stream",
     "text": [
      "RMSE for RandomForestRegressor: 2.0072857305101093\n",
      "R2 for RandomForestRegressor: 0.9914588296948514\n"
     ]
    }
   ],
   "source": [
    "print(\"RMSE for RandomForestRegressor:\", rmse_rf)\n",
    "print(\"R2 for RandomForestRegressor:\", r2_rf)"
   ]
  },
  {
   "cell_type": "markdown",
   "id": "88df9cfd-56c9-49b9-8b5f-a079e94b53c7",
   "metadata": {},
   "source": [
    "### Hyperparameter optimization"
   ]
  },
  {
   "cell_type": "code",
   "execution_count": 49,
   "id": "a7660d56-569e-43a2-b5af-26ab6c0670b9",
   "metadata": {},
   "outputs": [],
   "source": [
    "param_grid_rf = grid.addGrid(model_rf.maxDepth, [2, 4, 6]) \\\n",
    "    .addGrid(model_rf.maxBins, [16, 32, 64]) \\\n",
    "    .build()"
   ]
  },
  {
   "cell_type": "code",
   "execution_count": 50,
   "id": "7416e0aa-c59b-4aaa-b901-f476624bdafe",
   "metadata": {},
   "outputs": [],
   "source": [
    "cv_rf = CrossValidator(estimator=rf,\n",
    "                       estimatorParamMaps=param_grid_rf,\n",
    "                       evaluator=evaluator_rmse,\n",
    "                       parallelism=5,\n",
    "                       numFolds=3)"
   ]
  },
  {
   "cell_type": "code",
   "execution_count": 51,
   "id": "353b1292-3751-403c-a740-ec08d2918171",
   "metadata": {},
   "outputs": [],
   "source": [
    "cvModel_rf = cv_rf.fit(train_data)"
   ]
  },
  {
   "cell_type": "markdown",
   "id": "8131b92a-de72-4e1d-83f7-58291316b352",
   "metadata": {},
   "source": [
    "### Select the best model"
   ]
  },
  {
   "cell_type": "code",
   "execution_count": 52,
   "id": "af7e796f-5bf1-4333-bd37-c83138e07b2e",
   "metadata": {},
   "outputs": [
    {
     "data": {
      "text/plain": [
       "RandomForestRegressionModel: uid=RandomForestRegressor_b2e6363f39a8, numTrees=20, numFeatures=26"
      ]
     },
     "execution_count": 52,
     "metadata": {},
     "output_type": "execute_result"
    }
   ],
   "source": [
    "model_best_rf = cvModel_rf.bestModel\n",
    "model_best_rf"
   ]
  },
  {
   "cell_type": "code",
   "execution_count": 53,
   "id": "3002be0a-62b1-4a66-be5b-a678aaa49e4d",
   "metadata": {},
   "outputs": [
    {
     "name": "stdout",
     "output_type": "stream",
     "text": [
      "{Param(parent='RandomForestRegressor_b2e6363f39a8', name='leafCol', doc='Leaf indices column name. Predicted leaf index of each instance in each tree by preorder.'): '',\n",
      " Param(parent='RandomForestRegressor_b2e6363f39a8', name='maxBins', doc='Max number of bins for discretizing continuous features.  Must be >=2 and >= number of categories for any categorical feature.'): 64,\n",
      " Param(parent='RandomForestRegressor_b2e6363f39a8', name='maxMemoryInMB', doc='Maximum memory in MB allocated to histogram aggregation. If too small, then 1 node will be split per iteration, and its aggregates may exceed this size.'): 256,\n",
      " Param(parent='RandomForestRegressor_b2e6363f39a8', name='seed', doc='random seed.'): -8588119780064033430,\n",
      " Param(parent='RandomForestRegressor_b2e6363f39a8', name='maxDepth', doc='Maximum depth of the tree. (>= 0) E.g., depth 0 means 1 leaf node; depth 1 means 1 internal node + 2 leaf nodes. Must be in range [0, 30].'): 6,\n",
      " Param(parent='RandomForestRegressor_b2e6363f39a8', name='minInstancesPerNode', doc='Minimum number of instances each child must have after split. If a split causes the left or right child to have fewer than minInstancesPerNode, the split will be discarded as invalid. Should be >= 1.'): 1,\n",
      " Param(parent='RandomForestRegressor_b2e6363f39a8', name='minInfoGain', doc='Minimum information gain for a split to be considered at a tree node.'): 0.0,\n",
      " Param(parent='RandomForestRegressor_b2e6363f39a8', name='minWeightFractionPerNode', doc='Minimum fraction of the weighted sample count that each child must have after split. If a split causes the fraction of the total weight in the left or right child to be less than minWeightFractionPerNode, the split will be discarded as invalid. Should be in interval [0.0, 0.5).'): 0.0,\n",
      " Param(parent='RandomForestRegressor_b2e6363f39a8', name='numTrees', doc='Number of trees to train (>= 1).'): 20,\n",
      " Param(parent='RandomForestRegressor_b2e6363f39a8', name='subsamplingRate', doc='Fraction of the training data used for learning each decision tree, in range (0, 1].'): 1.0,\n",
      " Param(parent='RandomForestRegressor_b2e6363f39a8', name='predictionCol', doc='prediction column name.'): 'prediction',\n",
      " Param(parent='RandomForestRegressor_b2e6363f39a8', name='cacheNodeIds', doc='If false, the algorithm will pass trees to executors to match instances with nodes. If true, the algorithm will cache node IDs for each instance. Caching can speed up training of deeper trees. Users can set how often should the cache be checkpointed or disable it by setting checkpointInterval.'): False,\n",
      " Param(parent='RandomForestRegressor_b2e6363f39a8', name='impurity', doc='Criterion used for information gain calculation (case-insensitive). Supported options: variance'): 'variance',\n",
      " Param(parent='RandomForestRegressor_b2e6363f39a8', name='checkpointInterval', doc='set checkpoint interval (>= 1) or disable checkpoint (-1). E.g. 10 means that the cache will get checkpointed every 10 iterations. Note: this setting will be ignored if the checkpoint directory is not set in the SparkContext.'): 10,\n",
      " Param(parent='RandomForestRegressor_b2e6363f39a8', name='labelCol', doc='label column name.'): 'risk_score',\n",
      " Param(parent='RandomForestRegressor_b2e6363f39a8', name='bootstrap', doc='Whether bootstrap samples are used when building trees.'): True,\n",
      " Param(parent='RandomForestRegressor_b2e6363f39a8', name='featureSubsetStrategy', doc=\"The number of features to consider for splits at each tree node. Supported options: 'auto' (choose automatically for task: If numTrees == 1, set to 'all'. If numTrees > 1 (forest), set to 'sqrt' for classification and to 'onethird' for regression), 'all' (use all features), 'onethird' (use 1/3 of the features), 'sqrt' (use sqrt(number of features)), 'log2' (use log2(number of features)), 'n' (when n is in the range (0, 1.0], use n * number of features. When n is in the range (1, number of features), use n features). default = 'auto'\"): 'auto',\n",
      " Param(parent='RandomForestRegressor_b2e6363f39a8', name='featuresCol', doc='features column name.'): 'features'}\n"
     ]
    }
   ],
   "source": [
    "pprint(model_best_rf.extractParamMap())"
   ]
  },
  {
   "cell_type": "markdown",
   "id": "ddd9a2e4-ba39-4d87-8a68-2715a7019885",
   "metadata": {},
   "source": [
    "### Save the model to HDFS"
   ]
  },
  {
   "cell_type": "code",
   "execution_count": 54,
   "id": "5f250ce6-524e-4880-adc9-41776867a288",
   "metadata": {},
   "outputs": [],
   "source": [
    "# model_best_rf.write().overwrite().save(\"project/models/model2\")\n",
    "\n",
    "# # Run it from root directory of the repository\n",
    "# run(\"hdfs dfs -get project/models/model2 models/model2\")"
   ]
  },
  {
   "cell_type": "markdown",
   "id": "a92caafd-4c22-45e6-987d-8f5b30b1ac20",
   "metadata": {},
   "source": [
    "### Prediction for the best model"
   ]
  },
  {
   "cell_type": "code",
   "execution_count": 55,
   "id": "8cb8c56b-eba2-4f44-a48e-8c68c0e34eaf",
   "metadata": {},
   "outputs": [
    {
     "name": "stdout",
     "output_type": "stream",
     "text": [
      "+--------------------+----------+------------------+\n",
      "|            features|risk_score|        prediction|\n",
      "+--------------------+----------+------------------+\n",
      "|(26,[0,8,10,11,12...|    70.875| 70.97619056428002|\n",
      "|[1.0,0.0,0.0,0.0,...|      50.0|50.723714086969984|\n",
      "|[1.0,0.0,0.0,0.0,...|      50.0|50.856973933623685|\n",
      "|[1.0,0.0,0.0,0.0,...|      50.0|50.836213008181815|\n",
      "|[1.0,0.0,0.0,0.0,...|      67.5| 69.77153667638076|\n",
      "|[1.0,0.0,0.0,0.0,...|      50.0|50.974864753617446|\n",
      "|[1.0,0.0,0.0,0.0,...|      67.5| 69.64035663941068|\n",
      "|[1.0,0.0,0.0,0.0,...|      50.0| 50.72024449506914|\n",
      "|[1.0,0.0,0.0,0.0,...|      50.0|50.728037710727264|\n",
      "|[1.0,0.0,0.0,0.0,...|      50.0|50.852650309866405|\n",
      "|[1.0,0.0,0.0,0.0,...|      50.0| 50.84972984139665|\n",
      "|[1.0,0.0,0.0,0.0,...|      50.0| 50.94557297482727|\n",
      "|[1.0,0.0,0.0,0.0,...|      50.0| 50.71311679700837|\n",
      "|[1.0,0.0,0.0,0.0,...|      50.0|50.856361810125726|\n",
      "|[1.0,0.0,0.0,0.0,...|      67.5| 69.63154910545067|\n",
      "|[1.0,0.0,0.0,0.0,...|      50.0| 50.85611990176726|\n",
      "|[1.0,0.0,0.0,0.0,...|      50.0| 50.82668624184826|\n",
      "|[1.0,0.0,0.0,0.0,...|      50.0| 50.83139365509284|\n",
      "|[1.0,0.0,0.0,0.0,...|      50.0| 50.72407238949472|\n",
      "|[1.0,0.0,0.0,0.0,...|      50.0| 50.96583817093745|\n",
      "+--------------------+----------+------------------+\n",
      "only showing top 20 rows\n",
      "\n"
     ]
    }
   ],
   "source": [
    "predictions_best_rf = model_best_rf.transform(test_data)\n",
    "predictions_best_rf.show()"
   ]
  },
  {
   "cell_type": "markdown",
   "id": "f68e20ff-a049-4644-a3a6-a4364019a828",
   "metadata": {},
   "source": [
    "### Save prediction of the best model to HDFS"
   ]
  },
  {
   "cell_type": "code",
   "execution_count": 56,
   "id": "a79a1acd-cb4e-4a20-81d6-695c0ee4162b",
   "metadata": {},
   "outputs": [],
   "source": [
    "# predictions_best_rf.select(\"risk_score\", \"prediction\")\\\n",
    "#     .coalesce(1)\\\n",
    "#     .write\\\n",
    "#     .mode(\"overwrite\")\\\n",
    "#     .format(\"csv\")\\\n",
    "#     .option(\"sep\", \",\")\\\n",
    "#     .option(\"header\",\"true\")\\\n",
    "#     .save(\"project/output/model2_predictions.csv\")\n",
    "\n",
    "# # Run it from root directory of the repository\n",
    "# run(\"hdfs dfs -cat project/output/model2_predictions.csv/*.csv >\\\n",
    "#     output/model2_predictions.csv\")"
   ]
  },
  {
   "cell_type": "markdown",
   "id": "6433a07a-87d7-483a-baec-7c70f03bd91e",
   "metadata": {},
   "source": [
    "### Evaluation for the best model "
   ]
  },
  {
   "cell_type": "code",
   "execution_count": 57,
   "id": "9d3af30b-23d6-47ed-8b2a-be850dff21d2",
   "metadata": {},
   "outputs": [
    {
     "name": "stdout",
     "output_type": "stream",
     "text": [
      "RMSE for the best RandomForestRegressor: 1.1895396985820008\n",
      "R2 for the best RandomForestRegressor: 0.9969815154026349\n"
     ]
    }
   ],
   "source": [
    "rmse_best_rf = evaluator_rmse.evaluate(predictions_best_rf)\n",
    "r2_best_rf = evaluator_r2.evaluate(predictions_best_rf)\n",
    "\n",
    "print(\"RMSE for the best RandomForestRegressor:\", rmse_best_rf)\n",
    "print(\"R2 for the best RandomForestRegressor:\", r2_best_rf)"
   ]
  },
  {
   "cell_type": "markdown",
   "id": "78360323-d475-4054-94c1-da226dcabe0d",
   "metadata": {},
   "source": [
    "## Compare the best models"
   ]
  },
  {
   "cell_type": "markdown",
   "id": "082e4ada-1295-4098-84f5-37da6fffd66a",
   "metadata": {},
   "source": [
    "### Create data frame to compare performance of the models"
   ]
  },
  {
   "cell_type": "code",
   "execution_count": 58,
   "id": "5c1f8225-6c28-4191-9ba6-c365dfaaa1ea",
   "metadata": {},
   "outputs": [],
   "source": [
    "models = [[str(model_best_gbt), rmse_best_gbt, r2_best_gbt],\n",
    "          [str(model_best_rf), rmse_best_rf, r2_best_rf]]"
   ]
  },
  {
   "cell_type": "code",
   "execution_count": 59,
   "id": "f91608f3-943f-4f3e-8175-ddd060d674eb",
   "metadata": {},
   "outputs": [
    {
     "name": "stdout",
     "output_type": "stream",
     "text": [
      "+------------------------------------------------------------------------------------------------+--------------------+------------------+\n",
      "|model                                                                                           |RMSE                |R2                |\n",
      "+------------------------------------------------------------------------------------------------+--------------------+------------------+\n",
      "|GBTRegressionModel: uid=GBTRegressor_c8346a47d3b9, numTrees=20, numFeatures=26                  |9.512903246989098E-4|0.9999999980550562|\n",
      "|RandomForestRegressionModel: uid=RandomForestRegressor_b2e6363f39a8, numTrees=20, numFeatures=26|1.1895396985820008  |0.9969815154026349|\n",
      "+------------------------------------------------------------------------------------------------+--------------------+------------------+\n",
      "\n"
     ]
    }
   ],
   "source": [
    "comp_models = spark.createDataFrame(models, [\"model\", \"RMSE\", \"R2\"])\n",
    "comp_models.show(truncate=False)"
   ]
  },
  {
   "cell_type": "markdown",
   "id": "0fed4c73-4ea4-47c0-a0ee-f1d94a198459",
   "metadata": {},
   "source": [
    "### Save comparation models to HDFS"
   ]
  },
  {
   "cell_type": "code",
   "execution_count": 60,
   "id": "b7352a32-4837-4484-ab4a-fc3762db3833",
   "metadata": {},
   "outputs": [],
   "source": [
    "# comp_models.coalesce(1)\\\n",
    "#     .write\\\n",
    "#     .mode(\"overwrite\")\\\n",
    "#     .format(\"csv\")\\\n",
    "#     .option(\"sep\", \",\")\\\n",
    "#     .option(\"header\", \"true\")\\\n",
    "#     .save(\"project/output/evaluation.csv\")\n",
    "\n",
    "\n",
    "# run(\"hdfs dfs -cat project/output/evaluation.csv/*.csv >\\\n",
    "#     output/evaluation.csv\")"
   ]
  },
  {
   "cell_type": "code",
   "execution_count": null,
   "id": "651bae9e-6699-436e-bc59-e5f51bd0e23e",
   "metadata": {},
   "outputs": [],
   "source": []
  }
 ],
 "metadata": {
  "kernelspec": {
   "display_name": "Pyspark 3",
   "language": "python",
   "name": "python3"
  },
  "language_info": {
   "codemirror_mode": {
    "name": "ipython",
    "version": 3
   },
   "file_extension": ".py",
   "mimetype": "text/x-python",
   "name": "python",
   "nbconvert_exporter": "python",
   "pygments_lexer": "ipython3",
   "version": "3.6.8"
  }
 },
 "nbformat": 4,
 "nbformat_minor": 5
}
